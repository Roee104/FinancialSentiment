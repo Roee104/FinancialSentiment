{
 "cells": [
  {
   "cell_type": "markdown",
   "id": "7bfc706e",
   "metadata": {},
   "source": [
    "Imports"
   ]
  },
  {
   "cell_type": "code",
   "execution_count": 1,
   "id": "ea1ec7fc",
   "metadata": {},
   "outputs": [
    {
     "name": "stderr",
     "output_type": "stream",
     "text": [
      "\n",
      "[notice] A new release of pip is available: 24.3.1 -> 25.1.1\n",
      "[notice] To update, run: python.exe -m pip install --upgrade pip\n"
     ]
    },
    {
     "name": "stdout",
     "output_type": "stream",
     "text": [
      "Requirement already satisfied: nltk in c:\\users\\roee1\\onedrive\\desktop\\financialsentiment\\.venv\\lib\\site-packages (3.9.1)\n",
      "Requirement already satisfied: spacy in c:\\users\\roee1\\onedrive\\desktop\\financialsentiment\\.venv\\lib\\site-packages (3.8.7)\n",
      "Requirement already satisfied: tqdm in c:\\users\\roee1\\onedrive\\desktop\\financialsentiment\\.venv\\lib\\site-packages (4.67.1)\n",
      "Requirement already satisfied: yfinance in c:\\users\\roee1\\onedrive\\desktop\\financialsentiment\\.venv\\lib\\site-packages (0.2.61)\n",
      "Requirement already satisfied: click in c:\\users\\roee1\\onedrive\\desktop\\financialsentiment\\.venv\\lib\\site-packages (from nltk) (8.2.1)\n",
      "Requirement already satisfied: joblib in c:\\users\\roee1\\onedrive\\desktop\\financialsentiment\\.venv\\lib\\site-packages (from nltk) (1.5.1)\n",
      "Requirement already satisfied: regex>=2021.8.3 in c:\\users\\roee1\\onedrive\\desktop\\financialsentiment\\.venv\\lib\\site-packages (from nltk) (2024.11.6)\n",
      "Requirement already satisfied: spacy-legacy<3.1.0,>=3.0.11 in c:\\users\\roee1\\onedrive\\desktop\\financialsentiment\\.venv\\lib\\site-packages (from spacy) (3.0.12)\n",
      "Requirement already satisfied: spacy-loggers<2.0.0,>=1.0.0 in c:\\users\\roee1\\onedrive\\desktop\\financialsentiment\\.venv\\lib\\site-packages (from spacy) (1.0.5)\n",
      "Requirement already satisfied: murmurhash<1.1.0,>=0.28.0 in c:\\users\\roee1\\onedrive\\desktop\\financialsentiment\\.venv\\lib\\site-packages (from spacy) (1.0.13)\n",
      "Requirement already satisfied: cymem<2.1.0,>=2.0.2 in c:\\users\\roee1\\onedrive\\desktop\\financialsentiment\\.venv\\lib\\site-packages (from spacy) (2.0.11)\n",
      "Requirement already satisfied: preshed<3.1.0,>=3.0.2 in c:\\users\\roee1\\onedrive\\desktop\\financialsentiment\\.venv\\lib\\site-packages (from spacy) (3.0.10)\n",
      "Requirement already satisfied: thinc<8.4.0,>=8.3.4 in c:\\users\\roee1\\onedrive\\desktop\\financialsentiment\\.venv\\lib\\site-packages (from spacy) (8.3.6)\n",
      "Requirement already satisfied: wasabi<1.2.0,>=0.9.1 in c:\\users\\roee1\\onedrive\\desktop\\financialsentiment\\.venv\\lib\\site-packages (from spacy) (1.1.3)\n",
      "Requirement already satisfied: srsly<3.0.0,>=2.4.3 in c:\\users\\roee1\\onedrive\\desktop\\financialsentiment\\.venv\\lib\\site-packages (from spacy) (2.5.1)\n",
      "Requirement already satisfied: catalogue<2.1.0,>=2.0.6 in c:\\users\\roee1\\onedrive\\desktop\\financialsentiment\\.venv\\lib\\site-packages (from spacy) (2.0.10)\n",
      "Requirement already satisfied: weasel<0.5.0,>=0.1.0 in c:\\users\\roee1\\onedrive\\desktop\\financialsentiment\\.venv\\lib\\site-packages (from spacy) (0.4.1)\n",
      "Requirement already satisfied: typer<1.0.0,>=0.3.0 in c:\\users\\roee1\\onedrive\\desktop\\financialsentiment\\.venv\\lib\\site-packages (from spacy) (0.16.0)\n",
      "Requirement already satisfied: numpy>=1.19.0 in c:\\users\\roee1\\onedrive\\desktop\\financialsentiment\\.venv\\lib\\site-packages (from spacy) (2.2.6)\n",
      "Requirement already satisfied: requests<3.0.0,>=2.13.0 in c:\\users\\roee1\\onedrive\\desktop\\financialsentiment\\.venv\\lib\\site-packages (from spacy) (2.32.3)\n",
      "Requirement already satisfied: pydantic!=1.8,!=1.8.1,<3.0.0,>=1.7.4 in c:\\users\\roee1\\onedrive\\desktop\\financialsentiment\\.venv\\lib\\site-packages (from spacy) (2.11.5)\n",
      "Requirement already satisfied: jinja2 in c:\\users\\roee1\\onedrive\\desktop\\financialsentiment\\.venv\\lib\\site-packages (from spacy) (3.1.6)\n",
      "Requirement already satisfied: setuptools in c:\\users\\roee1\\onedrive\\desktop\\financialsentiment\\.venv\\lib\\site-packages (from spacy) (80.9.0)\n",
      "Requirement already satisfied: packaging>=20.0 in c:\\users\\roee1\\onedrive\\desktop\\financialsentiment\\.venv\\lib\\site-packages (from spacy) (25.0)\n",
      "Requirement already satisfied: langcodes<4.0.0,>=3.2.0 in c:\\users\\roee1\\onedrive\\desktop\\financialsentiment\\.venv\\lib\\site-packages (from spacy) (3.5.0)\n",
      "Requirement already satisfied: colorama in c:\\users\\roee1\\onedrive\\desktop\\financialsentiment\\.venv\\lib\\site-packages (from tqdm) (0.4.6)\n",
      "Requirement already satisfied: pandas>=1.3.0 in c:\\users\\roee1\\onedrive\\desktop\\financialsentiment\\.venv\\lib\\site-packages (from yfinance) (2.2.3)\n",
      "Requirement already satisfied: multitasking>=0.0.7 in c:\\users\\roee1\\onedrive\\desktop\\financialsentiment\\.venv\\lib\\site-packages (from yfinance) (0.0.11)\n",
      "Requirement already satisfied: platformdirs>=2.0.0 in c:\\users\\roee1\\onedrive\\desktop\\financialsentiment\\.venv\\lib\\site-packages (from yfinance) (4.3.8)\n",
      "Requirement already satisfied: pytz>=2022.5 in c:\\users\\roee1\\onedrive\\desktop\\financialsentiment\\.venv\\lib\\site-packages (from yfinance) (2025.2)\n",
      "Requirement already satisfied: frozendict>=2.3.4 in c:\\users\\roee1\\onedrive\\desktop\\financialsentiment\\.venv\\lib\\site-packages (from yfinance) (2.4.6)\n",
      "Requirement already satisfied: peewee>=3.16.2 in c:\\users\\roee1\\onedrive\\desktop\\financialsentiment\\.venv\\lib\\site-packages (from yfinance) (3.18.1)\n",
      "Requirement already satisfied: beautifulsoup4>=4.11.1 in c:\\users\\roee1\\onedrive\\desktop\\financialsentiment\\.venv\\lib\\site-packages (from yfinance) (4.13.4)\n",
      "Requirement already satisfied: curl_cffi>=0.7 in c:\\users\\roee1\\onedrive\\desktop\\financialsentiment\\.venv\\lib\\site-packages (from yfinance) (0.11.1)\n",
      "Requirement already satisfied: protobuf>=3.19.0 in c:\\users\\roee1\\onedrive\\desktop\\financialsentiment\\.venv\\lib\\site-packages (from yfinance) (6.31.1)\n",
      "Requirement already satisfied: websockets>=13.0 in c:\\users\\roee1\\onedrive\\desktop\\financialsentiment\\.venv\\lib\\site-packages (from yfinance) (15.0.1)\n",
      "Requirement already satisfied: soupsieve>1.2 in c:\\users\\roee1\\onedrive\\desktop\\financialsentiment\\.venv\\lib\\site-packages (from beautifulsoup4>=4.11.1->yfinance) (2.7)\n",
      "Requirement already satisfied: typing-extensions>=4.0.0 in c:\\users\\roee1\\onedrive\\desktop\\financialsentiment\\.venv\\lib\\site-packages (from beautifulsoup4>=4.11.1->yfinance) (4.14.0)\n",
      "Requirement already satisfied: cffi>=1.12.0 in c:\\users\\roee1\\onedrive\\desktop\\financialsentiment\\.venv\\lib\\site-packages (from curl_cffi>=0.7->yfinance) (1.17.1)\n",
      "Requirement already satisfied: certifi>=2024.2.2 in c:\\users\\roee1\\onedrive\\desktop\\financialsentiment\\.venv\\lib\\site-packages (from curl_cffi>=0.7->yfinance) (2025.4.26)\n",
      "Requirement already satisfied: language-data>=1.2 in c:\\users\\roee1\\onedrive\\desktop\\financialsentiment\\.venv\\lib\\site-packages (from langcodes<4.0.0,>=3.2.0->spacy) (1.3.0)\n",
      "Requirement already satisfied: python-dateutil>=2.8.2 in c:\\users\\roee1\\onedrive\\desktop\\financialsentiment\\.venv\\lib\\site-packages (from pandas>=1.3.0->yfinance) (2.9.0.post0)\n",
      "Requirement already satisfied: tzdata>=2022.7 in c:\\users\\roee1\\onedrive\\desktop\\financialsentiment\\.venv\\lib\\site-packages (from pandas>=1.3.0->yfinance) (2025.2)\n",
      "Requirement already satisfied: annotated-types>=0.6.0 in c:\\users\\roee1\\onedrive\\desktop\\financialsentiment\\.venv\\lib\\site-packages (from pydantic!=1.8,!=1.8.1,<3.0.0,>=1.7.4->spacy) (0.7.0)\n",
      "Requirement already satisfied: pydantic-core==2.33.2 in c:\\users\\roee1\\onedrive\\desktop\\financialsentiment\\.venv\\lib\\site-packages (from pydantic!=1.8,!=1.8.1,<3.0.0,>=1.7.4->spacy) (2.33.2)\n",
      "Requirement already satisfied: typing-inspection>=0.4.0 in c:\\users\\roee1\\onedrive\\desktop\\financialsentiment\\.venv\\lib\\site-packages (from pydantic!=1.8,!=1.8.1,<3.0.0,>=1.7.4->spacy) (0.4.1)\n",
      "Requirement already satisfied: charset-normalizer<4,>=2 in c:\\users\\roee1\\onedrive\\desktop\\financialsentiment\\.venv\\lib\\site-packages (from requests<3.0.0,>=2.13.0->spacy) (3.4.2)\n",
      "Requirement already satisfied: idna<4,>=2.5 in c:\\users\\roee1\\onedrive\\desktop\\financialsentiment\\.venv\\lib\\site-packages (from requests<3.0.0,>=2.13.0->spacy) (3.10)\n",
      "Requirement already satisfied: urllib3<3,>=1.21.1 in c:\\users\\roee1\\onedrive\\desktop\\financialsentiment\\.venv\\lib\\site-packages (from requests<3.0.0,>=2.13.0->spacy) (2.4.0)\n",
      "Requirement already satisfied: blis<1.4.0,>=1.3.0 in c:\\users\\roee1\\onedrive\\desktop\\financialsentiment\\.venv\\lib\\site-packages (from thinc<8.4.0,>=8.3.4->spacy) (1.3.0)\n",
      "Requirement already satisfied: confection<1.0.0,>=0.0.1 in c:\\users\\roee1\\onedrive\\desktop\\financialsentiment\\.venv\\lib\\site-packages (from thinc<8.4.0,>=8.3.4->spacy) (0.1.5)\n",
      "Requirement already satisfied: shellingham>=1.3.0 in c:\\users\\roee1\\onedrive\\desktop\\financialsentiment\\.venv\\lib\\site-packages (from typer<1.0.0,>=0.3.0->spacy) (1.5.4)\n",
      "Requirement already satisfied: rich>=10.11.0 in c:\\users\\roee1\\onedrive\\desktop\\financialsentiment\\.venv\\lib\\site-packages (from typer<1.0.0,>=0.3.0->spacy) (14.0.0)\n",
      "Requirement already satisfied: cloudpathlib<1.0.0,>=0.7.0 in c:\\users\\roee1\\onedrive\\desktop\\financialsentiment\\.venv\\lib\\site-packages (from weasel<0.5.0,>=0.1.0->spacy) (0.21.1)\n",
      "Requirement already satisfied: smart-open<8.0.0,>=5.2.1 in c:\\users\\roee1\\onedrive\\desktop\\financialsentiment\\.venv\\lib\\site-packages (from weasel<0.5.0,>=0.1.0->spacy) (7.1.0)\n",
      "Requirement already satisfied: MarkupSafe>=2.0 in c:\\users\\roee1\\onedrive\\desktop\\financialsentiment\\.venv\\lib\\site-packages (from jinja2->spacy) (3.0.2)\n",
      "Requirement already satisfied: pycparser in c:\\users\\roee1\\onedrive\\desktop\\financialsentiment\\.venv\\lib\\site-packages (from cffi>=1.12.0->curl_cffi>=0.7->yfinance) (2.22)\n",
      "Requirement already satisfied: marisa-trie>=1.1.0 in c:\\users\\roee1\\onedrive\\desktop\\financialsentiment\\.venv\\lib\\site-packages (from language-data>=1.2->langcodes<4.0.0,>=3.2.0->spacy) (1.2.1)\n",
      "Requirement already satisfied: six>=1.5 in c:\\users\\roee1\\onedrive\\desktop\\financialsentiment\\.venv\\lib\\site-packages (from python-dateutil>=2.8.2->pandas>=1.3.0->yfinance) (1.17.0)\n",
      "Requirement already satisfied: markdown-it-py>=2.2.0 in c:\\users\\roee1\\onedrive\\desktop\\financialsentiment\\.venv\\lib\\site-packages (from rich>=10.11.0->typer<1.0.0,>=0.3.0->spacy) (3.0.0)\n",
      "Requirement already satisfied: pygments<3.0.0,>=2.13.0 in c:\\users\\roee1\\onedrive\\desktop\\financialsentiment\\.venv\\lib\\site-packages (from rich>=10.11.0->typer<1.0.0,>=0.3.0->spacy) (2.19.1)\n",
      "Requirement already satisfied: wrapt in c:\\users\\roee1\\onedrive\\desktop\\financialsentiment\\.venv\\lib\\site-packages (from smart-open<8.0.0,>=5.2.1->weasel<0.5.0,>=0.1.0->spacy) (1.17.2)\n",
      "Requirement already satisfied: mdurl~=0.1 in c:\\users\\roee1\\onedrive\\desktop\\financialsentiment\\.venv\\lib\\site-packages (from markdown-it-py>=2.2.0->rich>=10.11.0->typer<1.0.0,>=0.3.0->spacy) (0.1.2)\n"
     ]
    }
   ],
   "source": [
    "# Install slash import libraries if needed (only the first time)\n",
    "# (You can comment out the pip installs after your first successful run.)\n",
    "\n",
    "!pip install nltk spacy tqdm yfinance\n",
    "\n",
    "import gzip\n",
    "import json\n",
    "import random\n",
    "import re\n",
    "\n",
    "import spacy\n",
    "import nltk\n",
    "import pandas as pd\n",
    "import matplotlib.pyplot as plt\n",
    "import numpy as np\n",
    "from tqdm import tqdm\n",
    "from nltk.tokenize import word_tokenize, sent_tokenize\n"
   ]
  },
  {
   "cell_type": "markdown",
   "id": "a2771ba1",
   "metadata": {},
   "source": [
    "NLTK & spaCy Setup"
   ]
  },
  {
   "cell_type": "code",
   "execution_count": 4,
   "id": "4b3498ca",
   "metadata": {},
   "outputs": [
    {
     "name": "stdout",
     "output_type": "stream",
     "text": [
      "Collecting en-core-web-sm==3.8.0\n",
      "  Downloading https://github.com/explosion/spacy-models/releases/download/en_core_web_sm-3.8.0/en_core_web_sm-3.8.0-py3-none-any.whl (12.8 MB)\n",
      "     ---------------------------------------- 0.0/12.8 MB ? eta -:--:--\n",
      "     ---------------------------------------- 0.0/12.8 MB ? eta -:--:--\n",
      "      --------------------------------------- 0.3/12.8 MB ? eta -:--:--\n",
      "     - -------------------------------------- 0.5/12.8 MB 1.1 MB/s eta 0:00:12\n",
      "     - -------------------------------------- 0.5/12.8 MB 1.1 MB/s eta 0:00:12\n",
      "     -- ------------------------------------- 0.8/12.8 MB 1.0 MB/s eta 0:00:12\n",
      "     ---- ----------------------------------- 1.3/12.8 MB 1.3 MB/s eta 0:00:09\n",
      "     ----- ---------------------------------- 1.8/12.8 MB 1.5 MB/s eta 0:00:08\n",
      "     ------ --------------------------------- 2.1/12.8 MB 1.5 MB/s eta 0:00:08\n",
      "     -------- ------------------------------- 2.6/12.8 MB 1.6 MB/s eta 0:00:07\n",
      "     --------- ------------------------------ 3.1/12.8 MB 1.7 MB/s eta 0:00:06\n",
      "     ----------- ---------------------------- 3.7/12.8 MB 1.8 MB/s eta 0:00:06\n",
      "     ------------- -------------------------- 4.2/12.8 MB 1.8 MB/s eta 0:00:05\n",
      "     -------------- ------------------------- 4.7/12.8 MB 1.9 MB/s eta 0:00:05\n",
      "     ----------------- ---------------------- 5.5/12.8 MB 2.0 MB/s eta 0:00:04\n",
      "     ------------------- -------------------- 6.3/12.8 MB 2.1 MB/s eta 0:00:04\n",
      "     --------------------- ------------------ 6.8/12.8 MB 2.2 MB/s eta 0:00:03\n",
      "     --------------------- ------------------ 6.8/12.8 MB 2.2 MB/s eta 0:00:03\n",
      "     ---------------------- ----------------- 7.1/12.8 MB 2.0 MB/s eta 0:00:03\n",
      "     ---------------------- ----------------- 7.1/12.8 MB 2.0 MB/s eta 0:00:03\n",
      "     ---------------------- ----------------- 7.1/12.8 MB 2.0 MB/s eta 0:00:03\n",
      "     ---------------------- ----------------- 7.3/12.8 MB 1.8 MB/s eta 0:00:04\n",
      "     ----------------------- ---------------- 7.6/12.8 MB 1.7 MB/s eta 0:00:03\n",
      "     ----------------------- ---------------- 7.6/12.8 MB 1.7 MB/s eta 0:00:03\n",
      "     ----------------------- ---------------- 7.6/12.8 MB 1.7 MB/s eta 0:00:03\n",
      "     ------------------------ --------------- 7.9/12.8 MB 1.5 MB/s eta 0:00:04\n",
      "     ------------------------- -------------- 8.1/12.8 MB 1.5 MB/s eta 0:00:04\n",
      "     ------------------------- -------------- 8.1/12.8 MB 1.5 MB/s eta 0:00:04\n",
      "     -------------------------- ------------- 8.4/12.8 MB 1.5 MB/s eta 0:00:03\n",
      "     -------------------------- ------------- 8.4/12.8 MB 1.5 MB/s eta 0:00:03\n",
      "     --------------------------- ------------ 8.7/12.8 MB 1.4 MB/s eta 0:00:03\n",
      "     --------------------------- ------------ 8.9/12.8 MB 1.4 MB/s eta 0:00:03\n",
      "     ---------------------------- ----------- 9.2/12.8 MB 1.4 MB/s eta 0:00:03\n",
      "     ----------------------------- ---------- 9.4/12.8 MB 1.4 MB/s eta 0:00:03\n",
      "     ------------------------------ --------- 9.7/12.8 MB 1.4 MB/s eta 0:00:03\n",
      "     ------------------------------- -------- 10.2/12.8 MB 1.4 MB/s eta 0:00:02\n",
      "     -------------------------------- ------- 10.5/12.8 MB 1.4 MB/s eta 0:00:02\n",
      "     --------------------------------- ------ 10.7/12.8 MB 1.4 MB/s eta 0:00:02\n",
      "     ---------------------------------- ----- 11.0/12.8 MB 1.4 MB/s eta 0:00:02\n",
      "     ----------------------------------- ---- 11.3/12.8 MB 1.4 MB/s eta 0:00:02\n",
      "     ------------------------------------ --- 11.5/12.8 MB 1.4 MB/s eta 0:00:01\n",
      "     ------------------------------------ --- 11.8/12.8 MB 1.4 MB/s eta 0:00:01\n",
      "     ------------------------------------- -- 12.1/12.8 MB 1.4 MB/s eta 0:00:01\n",
      "     -------------------------------------- - 12.3/12.8 MB 1.4 MB/s eta 0:00:01\n",
      "     ---------------------------------------  12.6/12.8 MB 1.4 MB/s eta 0:00:01\n",
      "     ---------------------------------------  12.6/12.8 MB 1.4 MB/s eta 0:00:01\n",
      "     ---------------------------------------- 12.8/12.8 MB 1.3 MB/s eta 0:00:00\n",
      "Installing collected packages: en-core-web-sm\n",
      "Successfully installed en-core-web-sm-3.8.0\n",
      "\u001b[38;5;2m✔ Download and installation successful\u001b[0m\n",
      "You can now load the package via spacy.load('en_core_web_sm')\n"
     ]
    },
    {
     "name": "stderr",
     "output_type": "stream",
     "text": [
      "\n",
      "[notice] A new release of pip is available: 24.3.1 -> 25.1.1\n",
      "[notice] To update, run: python.exe -m pip install --upgrade pip\n",
      "[nltk_data] Downloading package punkt to\n",
      "[nltk_data]     C:\\Users\\roee1\\AppData\\Roaming\\nltk_data...\n",
      "[nltk_data]   Package punkt is already up-to-date!\n"
     ]
    }
   ],
   "source": [
    "!python -m spacy download en_core_web_sm\n",
    "\n",
    "# Download NLTK’s punkt tokenizer (if you haven’t already)\n",
    "nltk.download('punkt')\n",
    "\n",
    "# Load the small English model in spaCy (disable unnecessary components)\n",
    "nlp = spacy.load(\"en_core_web_sm\", disable=[\"parser\", \"tagger\", \"lemmatizer\"])\n"
   ]
  },
  {
   "cell_type": "markdown",
   "id": "aba08a0b",
   "metadata": {},
   "source": [
    "Set File Paths & Sampling Parameters"
   ]
  },
  {
   "cell_type": "code",
   "execution_count": 5,
   "id": "6c27a3b9",
   "metadata": {},
   "outputs": [
    {
     "name": "stdout",
     "output_type": "stream",
     "text": [
      "Sampling 10000 out of ~1500000 lines…\n"
     ]
    }
   ],
   "source": [
    "# 1) Path to the raw FNSPID file you placed under data/raw/\n",
    "INPUT_PATH = \"../data/raw/news_2020_2025.jsonl.gz\"\n",
    "\n",
    "# 2) Where to write our 10k‐article sample\n",
    "OUTPUT_SAMPLE = \"../data/sampled/10k_sample.jsonl\"\n",
    "\n",
    "# 3) Approximate total lines in news_2020_2025.jsonl.gz\n",
    "TOTAL_LINES = 1_500_000   # adjust only if you know the exact count\n",
    "\n",
    "# 4) How many articles to sample\n",
    "SAMPLE_SIZE = 10_000\n",
    "\n",
    "# 5) Pick 10k random indices (use a fixed seed for reproducibility)\n",
    "random.seed(42)\n",
    "sampled_indices = set(random.sample(range(TOTAL_LINES), SAMPLE_SIZE))\n",
    "\n",
    "print(f\"Sampling {SAMPLE_SIZE} out of ~{TOTAL_LINES} lines…\")\n"
   ]
  },
  {
   "cell_type": "markdown",
   "id": "e824df23",
   "metadata": {},
   "source": [
    "Perform the Sampling"
   ]
  },
  {
   "cell_type": "code",
   "execution_count": 7,
   "id": "403d9c1b",
   "metadata": {},
   "outputs": [
    {
     "name": "stdout",
     "output_type": "stream",
     "text": [
      "✔ Saved 10000 articles to ../data/sampled/10k_sample.jsonl\n"
     ]
    }
   ],
   "source": [
    "# Stream through the large GZ file and write only sampled lines to 10k_sample.jsonl\n",
    "with gzip.open(INPUT_PATH, \"rt\", encoding=\"utf-8\", errors=\"ignore\") as fin, \\\n",
    "     open(OUTPUT_SAMPLE, \"w\", encoding=\"utf-8\") as fout:\n",
    "    for i, line in enumerate(fin):\n",
    "        if i in sampled_indices:\n",
    "            fout.write(line)\n",
    "\n",
    "print(f\"✔ Saved {SAMPLE_SIZE} articles to {OUTPUT_SAMPLE}\")\n"
   ]
  },
  {
   "cell_type": "markdown",
   "id": "f6bec935",
   "metadata": {},
   "source": [
    "Confirm the Sample Size"
   ]
  },
  {
   "cell_type": "code",
   "execution_count": 8,
   "id": "5ad7e2f7",
   "metadata": {},
   "outputs": [
    {
     "name": "stdout",
     "output_type": "stream",
     "text": [
      "10000 ../data/sampled/10k_sample.jsonl\n"
     ]
    }
   ],
   "source": [
    "!wc -l ../data/sampled/10k_sample.jsonl\n"
   ]
  },
  {
   "cell_type": "markdown",
   "id": "5b09fcae",
   "metadata": {},
   "source": [
    "Compute Basic Statistics"
   ]
  },
  {
   "cell_type": "code",
   "execution_count": 10,
   "id": "9f567637",
   "metadata": {},
   "outputs": [
    {
     "name": "stderr",
     "output_type": "stream",
     "text": [
      "[nltk_data] Downloading package punkt to\n",
      "[nltk_data]     C:\\Users\\roee1\\AppData\\Roaming\\nltk_data...\n",
      "[nltk_data]   Package punkt is already up-to-date!\n",
      "100%|██████████| 10000/10000 [20:11<00:00,  8.26it/s] "
     ]
    },
    {
     "name": "stdout",
     "output_type": "stream",
     "text": [
      "Descriptive statistics:\n"
     ]
    },
    {
     "name": "stderr",
     "output_type": "stream",
     "text": [
      "\n"
     ]
    },
    {
     "data": {
      "text/html": [
       "<div>\n",
       "<style scoped>\n",
       "    .dataframe tbody tr th:only-of-type {\n",
       "        vertical-align: middle;\n",
       "    }\n",
       "\n",
       "    .dataframe tbody tr th {\n",
       "        vertical-align: top;\n",
       "    }\n",
       "\n",
       "    .dataframe thead th {\n",
       "        text-align: right;\n",
       "    }\n",
       "</style>\n",
       "<table border=\"1\" class=\"dataframe\">\n",
       "  <thead>\n",
       "    <tr style=\"text-align: right;\">\n",
       "      <th></th>\n",
       "      <th>headline_len</th>\n",
       "      <th>body_len</th>\n",
       "      <th>n_sentences</th>\n",
       "      <th>n_tickers</th>\n",
       "    </tr>\n",
       "  </thead>\n",
       "  <tbody>\n",
       "    <tr>\n",
       "      <th>count</th>\n",
       "      <td>10000.0</td>\n",
       "      <td>10000.000000</td>\n",
       "      <td>10000.000000</td>\n",
       "      <td>10000.000000</td>\n",
       "    </tr>\n",
       "    <tr>\n",
       "      <th>mean</th>\n",
       "      <td>0.0</td>\n",
       "      <td>910.829500</td>\n",
       "      <td>37.608700</td>\n",
       "      <td>25.235700</td>\n",
       "    </tr>\n",
       "    <tr>\n",
       "      <th>std</th>\n",
       "      <td>0.0</td>\n",
       "      <td>1325.719783</td>\n",
       "      <td>56.561953</td>\n",
       "      <td>22.422583</td>\n",
       "    </tr>\n",
       "    <tr>\n",
       "      <th>min</th>\n",
       "      <td>0.0</td>\n",
       "      <td>68.000000</td>\n",
       "      <td>2.000000</td>\n",
       "      <td>2.000000</td>\n",
       "    </tr>\n",
       "    <tr>\n",
       "      <th>25%</th>\n",
       "      <td>0.0</td>\n",
       "      <td>440.000000</td>\n",
       "      <td>14.000000</td>\n",
       "      <td>15.000000</td>\n",
       "    </tr>\n",
       "    <tr>\n",
       "      <th>50%</th>\n",
       "      <td>0.0</td>\n",
       "      <td>771.000000</td>\n",
       "      <td>32.000000</td>\n",
       "      <td>22.000000</td>\n",
       "    </tr>\n",
       "    <tr>\n",
       "      <th>75%</th>\n",
       "      <td>0.0</td>\n",
       "      <td>1041.000000</td>\n",
       "      <td>45.000000</td>\n",
       "      <td>31.000000</td>\n",
       "    </tr>\n",
       "    <tr>\n",
       "      <th>max</th>\n",
       "      <td>0.0</td>\n",
       "      <td>47982.000000</td>\n",
       "      <td>1385.000000</td>\n",
       "      <td>880.000000</td>\n",
       "    </tr>\n",
       "  </tbody>\n",
       "</table>\n",
       "</div>"
      ],
      "text/plain": [
       "       headline_len      body_len   n_sentences     n_tickers\n",
       "count       10000.0  10000.000000  10000.000000  10000.000000\n",
       "mean            0.0    910.829500     37.608700     25.235700\n",
       "std             0.0   1325.719783     56.561953     22.422583\n",
       "min             0.0     68.000000      2.000000      2.000000\n",
       "25%             0.0    440.000000     14.000000     15.000000\n",
       "50%             0.0    771.000000     32.000000     22.000000\n",
       "75%             0.0   1041.000000     45.000000     31.000000\n",
       "max             0.0  47982.000000   1385.000000    880.000000"
      ]
     },
     "metadata": {},
     "output_type": "display_data"
    },
    {
     "data": {
      "image/png": "[encoded data removed]",
      "text/plain": [
       "<Figure size 1200x800 with 4 Axes>"
      ]
     },
     "metadata": {},
     "output_type": "display_data"
    },
    {
     "name": "stdout",
     "output_type": "stream",
     "text": [
      "✔ Saved statistics to data/sampled/10k_article_stats.csv\n"
     ]
    }
   ],
   "source": [
    "import json\n",
    "import re\n",
    "from tqdm import tqdm\n",
    "import pandas as pd\n",
    "import spacy\n",
    "import nltk\n",
    "from nltk.tokenize import word_tokenize, sent_tokenize\n",
    "\n",
    "# (Re‐run NLTK & spaCy setup if needed)\n",
    "nltk.download('punkt')\n",
    "nlp = spacy.load(\"en_core_web_sm\", disable=[\"parser\", \"tagger\", \"lemmatizer\"])\n",
    "\n",
    "stats = []\n",
    "\n",
    "# Open with utf-8 + ignore errors to avoid cp1255 decode issues\n",
    "with open(\"../data/sampled/10k_sample.jsonl\", \"r\", encoding=\"utf-8\", errors=\"ignore\") as fin:\n",
    "    for line in tqdm(fin, total=SAMPLE_SIZE):\n",
    "        art = json.loads(line)\n",
    "        headline = art.get(\"headline_summary\", \"\")\n",
    "        body = art.get(\"body\", \"\")\n",
    "\n",
    "        # 1) Token counts\n",
    "        headline_tokens = word_tokenize(headline)\n",
    "        body_tokens = word_tokenize(body)\n",
    "\n",
    "        # 2) Sentence counts\n",
    "        full_text = (headline + \" \" + body).strip()\n",
    "        sents = sent_tokenize(full_text)\n",
    "\n",
    "        # 3) Simple ticker‐extraction\n",
    "        doc = nlp(full_text)\n",
    "        spacy_tickers = {ent.text for ent in doc.ents if ent.label_ in (\"ORG\", \"PRODUCT\")}\n",
    "        regex_tickers = set(re.findall(r\"\\b[A-Z]{1,4}\\b\", full_text))\n",
    "        tickers = spacy_tickers.union(regex_tickers)\n",
    "\n",
    "        stats.append({\n",
    "            \"headline_len\": len(headline_tokens),\n",
    "            \"body_len\": len(body_tokens),\n",
    "            \"n_sentences\": len(sents),\n",
    "            \"n_tickers\": len(tickers),\n",
    "        })\n",
    "\n",
    "# Convert to DataFrame and inspect\n",
    "df_stats = pd.DataFrame(stats)\n",
    "print(\"Descriptive statistics:\")\n",
    "display(df_stats.describe())\n",
    "\n",
    "# Plot histograms\n",
    "import matplotlib.pyplot as plt\n",
    "fig, axes = plt.subplots(2, 2, figsize=(12, 8))\n",
    "\n",
    "df_stats[\"headline_len\"].hist(bins=30, ax=axes[0,0])\n",
    "axes[0,0].set_title(\"Headline Length (tokens)\")\n",
    "\n",
    "df_stats[\"body_len\"].hist(bins=30, ax=axes[0,1])\n",
    "axes[0,1].set_title(\"Body Length (tokens)\")\n",
    "\n",
    "df_stats[\"n_sentences\"].hist(bins=30, ax=axes[1,0])\n",
    "axes[1,0].set_title(\"Sentences per Article\")\n",
    "\n",
    "df_stats[\"n_tickers\"].hist(bins=30, ax=axes[1,1])\n",
    "axes[1,1].set_title(\"Tickers per Article\")\n",
    "\n",
    "plt.tight_layout()\n",
    "plt.show()\n",
    "\n",
    "# Save stats to CSV (specify encoding, though default is generally fine)\n",
    "df_stats.to_csv(\"../data/sampled/10k_article_stats.csv\", index=False, encoding=\"utf-8\")\n",
    "print(\"✔ Saved statistics to data/sampled/10k_article_stats.csv\")\n"
   ]
  },
  {
   "cell_type": "markdown",
   "id": "bfd61b45",
   "metadata": {},
   "source": [
    "Plot Histograms"
   ]
  },
  {
   "cell_type": "code",
   "execution_count": 11,
   "id": "8a57e80a",
   "metadata": {},
   "outputs": [
    {
     "data": {
      "image/png": "[encoded data removed]",
      "text/plain": [
       "<Figure size 1200x800 with 4 Axes>"
      ]
     },
     "metadata": {},
     "output_type": "display_data"
    }
   ],
   "source": [
    "fig, axes = plt.subplots(2, 2, figsize=(12, 8))\n",
    "\n",
    "df_stats[\"headline_len\"].hist(bins=30, ax=axes[0,0])\n",
    "axes[0,0].set_title(\"Headline Length (tokens)\")\n",
    "\n",
    "df_stats[\"body_len\"].hist(bins=30, ax=axes[0,1])\n",
    "axes[0,1].set_title(\"Body Length (tokens)\")\n",
    "\n",
    "df_stats[\"n_sentences\"].hist(bins=30, ax=axes[1,0])\n",
    "axes[1,0].set_title(\"Sentences per Article\")\n",
    "\n",
    "df_stats[\"n_tickers\"].hist(bins=30, ax=axes[1,1])\n",
    "axes[1,1].set_title(\"Tickers per Article\")\n",
    "\n",
    "plt.tight_layout()\n",
    "plt.show()\n"
   ]
  },
  {
   "cell_type": "markdown",
   "id": "aa14f5ab",
   "metadata": {},
   "source": [
    "Save Stats to CSV"
   ]
  },
  {
   "cell_type": "code",
   "execution_count": 13,
   "id": "869bb18c",
   "metadata": {},
   "outputs": [
    {
     "name": "stdout",
     "output_type": "stream",
     "text": [
      "✔ Saved statistics to data/sampled/10k_article_stats.csv\n"
     ]
    }
   ],
   "source": [
    "import os\n",
    "os.makedirs(\"../data/sampled\", exist_ok=True)\n",
    "df_stats.to_csv(\"../data/sampled/10k_article_stats.csv\", index=False)\n",
    "print(\"✔ Saved statistics to data/sampled/10k_article_stats.csv\")\n"
   ]
  },
  {
   "cell_type": "markdown",
   "id": "915bbd01",
   "metadata": {},
   "source": [
    "View a Few Rows"
   ]
  },
  {
   "cell_type": "code",
   "execution_count": 14,
   "id": "c956690b",
   "metadata": {},
   "outputs": [
    {
     "data": {
      "text/html": [
       "<div>\n",
       "<style scoped>\n",
       "    .dataframe tbody tr th:only-of-type {\n",
       "        vertical-align: middle;\n",
       "    }\n",
       "\n",
       "    .dataframe tbody tr th {\n",
       "        vertical-align: top;\n",
       "    }\n",
       "\n",
       "    .dataframe thead th {\n",
       "        text-align: right;\n",
       "    }\n",
       "</style>\n",
       "<table border=\"1\" class=\"dataframe\">\n",
       "  <thead>\n",
       "    <tr style=\"text-align: right;\">\n",
       "      <th></th>\n",
       "      <th>headline_len</th>\n",
       "      <th>body_len</th>\n",
       "      <th>n_sentences</th>\n",
       "      <th>n_tickers</th>\n",
       "    </tr>\n",
       "  </thead>\n",
       "  <tbody>\n",
       "    <tr>\n",
       "      <th>0</th>\n",
       "      <td>0</td>\n",
       "      <td>892</td>\n",
       "      <td>40</td>\n",
       "      <td>37</td>\n",
       "    </tr>\n",
       "    <tr>\n",
       "      <th>1</th>\n",
       "      <td>0</td>\n",
       "      <td>957</td>\n",
       "      <td>41</td>\n",
       "      <td>26</td>\n",
       "    </tr>\n",
       "    <tr>\n",
       "      <th>2</th>\n",
       "      <td>0</td>\n",
       "      <td>704</td>\n",
       "      <td>34</td>\n",
       "      <td>20</td>\n",
       "    </tr>\n",
       "    <tr>\n",
       "      <th>3</th>\n",
       "      <td>0</td>\n",
       "      <td>784</td>\n",
       "      <td>30</td>\n",
       "      <td>19</td>\n",
       "    </tr>\n",
       "    <tr>\n",
       "      <th>4</th>\n",
       "      <td>0</td>\n",
       "      <td>803</td>\n",
       "      <td>37</td>\n",
       "      <td>23</td>\n",
       "    </tr>\n",
       "    <tr>\n",
       "      <th>5</th>\n",
       "      <td>0</td>\n",
       "      <td>735</td>\n",
       "      <td>36</td>\n",
       "      <td>21</td>\n",
       "    </tr>\n",
       "    <tr>\n",
       "      <th>6</th>\n",
       "      <td>0</td>\n",
       "      <td>83</td>\n",
       "      <td>2</td>\n",
       "      <td>6</td>\n",
       "    </tr>\n",
       "    <tr>\n",
       "      <th>7</th>\n",
       "      <td>0</td>\n",
       "      <td>485</td>\n",
       "      <td>14</td>\n",
       "      <td>13</td>\n",
       "    </tr>\n",
       "    <tr>\n",
       "      <th>8</th>\n",
       "      <td>0</td>\n",
       "      <td>314</td>\n",
       "      <td>9</td>\n",
       "      <td>15</td>\n",
       "    </tr>\n",
       "    <tr>\n",
       "      <th>9</th>\n",
       "      <td>0</td>\n",
       "      <td>513</td>\n",
       "      <td>18</td>\n",
       "      <td>24</td>\n",
       "    </tr>\n",
       "  </tbody>\n",
       "</table>\n",
       "</div>"
      ],
      "text/plain": [
       "   headline_len  body_len  n_sentences  n_tickers\n",
       "0             0       892           40         37\n",
       "1             0       957           41         26\n",
       "2             0       704           34         20\n",
       "3             0       784           30         19\n",
       "4             0       803           37         23\n",
       "5             0       735           36         21\n",
       "6             0        83            2          6\n",
       "7             0       485           14         13\n",
       "8             0       314            9         15\n",
       "9             0       513           18         24"
      ]
     },
     "execution_count": 14,
     "metadata": {},
     "output_type": "execute_result"
    }
   ],
   "source": [
    "df_stats.head(10)\n"
   ]
  },
  {
   "cell_type": "code",
   "execution_count": null,
   "id": "6c24f1f0",
   "metadata": {},
   "outputs": [],
   "source": []
  }
 ],
 "metadata": {
  "kernelspec": {
   "display_name": ".venv",
   "language": "python",
   "name": "python3"
  },
  "language_info": {
   "codemirror_mode": {
    "name": "ipython",
    "version": 3
   },
   "file_extension": ".py",
   "mimetype": "text/x-python",
   "name": "python",
   "nbconvert_exporter": "python",
   "pygments_lexer": "ipython3",
   "version": "3.13.1"
  }
 },
 "nbformat": 4,
 "nbformat_minor": 5
}
